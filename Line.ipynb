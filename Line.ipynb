{
 "cells": [
  {
   "cell_type": "code",
   "execution_count": 1,
   "id": "entitled-slide",
   "metadata": {},
   "outputs": [
    {
     "name": "stdout",
     "output_type": "stream",
     "text": [
      "Coincheck 現在のビットコインの価格 = 6,043,356 円\n",
      "取得時間 = 2021-05-11 23:35:44\n"
     ]
    }
   ],
   "source": [
    "from datetime import datetime\n",
    "import requests\n",
    "\n",
    "url = 'https://coincheck.com/api/ticker'\n",
    "cc = requests.get(url).json()\n",
    "\n",
    "cc_last = '{:,}'.format(int(cc['last']))\n",
    "cc_timestamp = datetime.fromtimestamp(cc['timestamp'])\n",
    "\n",
    "print(\"Coincheck 現在のビットコインの価格 =\", cc_last, \"円\")\n",
    "print(\"取得時間 =\", cc_timestamp)\n",
    "\n",
    "\n",
    "msg = \"Coincheck 現在のビットコインの価格 =\", cc_last, \"円\"\"取得時間 =\", cc_timestamp\n",
    "\n",
    "def lineNotify(msg,):\n",
    "    line_notify_token = 'kvkZmumqkACjedOeibz9h1FpLlWTpB3bsNw1NuNmXV1'\n",
    "    line_notify_api = 'https://notify-api.line.me/api/notify'\n",
    "    payload = {'message': msg}\n",
    "    headers = {'Authorization': 'Bearer ' + line_notify_token} \n",
    "    requests.post(line_notify_api, data=payload, headers=headers)\n",
    "\n",
    "lineNotify('💰ビットコイン現在価格のお知らせ')\n",
    "\n",
    "def main():\n",
    "    lineNotify(msg)\n",
    "    \n",
    "if __name__ == \"__main__\":\n",
    "    main()"
   ]
  },
  {
   "cell_type": "code",
   "execution_count": null,
   "id": "liberal-covering",
   "metadata": {},
   "outputs": [],
   "source": []
  }
 ],
 "metadata": {
  "kernelspec": {
   "display_name": "Python 3",
   "language": "python",
   "name": "python3"
  },
  "language_info": {
   "codemirror_mode": {
    "name": "ipython",
    "version": 3
   },
   "file_extension": ".py",
   "mimetype": "text/x-python",
   "name": "python",
   "nbconvert_exporter": "python",
   "pygments_lexer": "ipython3",
   "version": "3.9.5"
  }
 },
 "nbformat": 4,
 "nbformat_minor": 5
}
